{
 "cells": [
  {
   "cell_type": "markdown",
   "metadata": {},
   "source": [
    "## Difference\n",
    "+ Size Imbalance, where the data size on each device (or client) is uneven; \n",
    "+ LocalImbalance, i.e.,independentandnon-identicallydistribution (non-IID), where each device does not follow a common data distribution;\n",
    "+ Global Imbalance, means that the collection of data in all devices is class imbalanced."
   ]
  },
  {
   "cell_type": "code",
   "execution_count": 119,
   "metadata": {},
   "outputs": [],
   "source": [
    "import DataProcessor\n",
    "import DataBalance\n",
    "import numpy as np \n",
    "from importlib import reload"
   ]
  },
  {
   "cell_type": "code",
   "execution_count": 120,
   "metadata": {},
   "outputs": [
    {
     "data": {
      "text/plain": [
       "<module 'DataBalance' from 'C:\\\\Personal\\\\USC\\\\HW\\\\CSCI596-FedLearningProject\\\\DataBalance.py'>"
      ]
     },
     "execution_count": 120,
     "metadata": {},
     "output_type": "execute_result"
    }
   ],
   "source": [
    "reload(DataProcessor)\n",
    "reload(DataBalance)"
   ]
  },
  {
   "cell_type": "code",
   "execution_count": 121,
   "metadata": {},
   "outputs": [],
   "source": [
    "dp = DataProcessor.DataProcessor()"
   ]
  },
  {
   "cell_type": "code",
   "execution_count": 122,
   "metadata": {},
   "outputs": [],
   "source": [
    "# ds.get_input('cifar')\n",
    "dp.get_input('mnist')"
   ]
  },
  {
   "cell_type": "code",
   "execution_count": 123,
   "metadata": {},
   "outputs": [
    {
     "data": {
      "text/plain": [
       "(60000,)"
      ]
     },
     "execution_count": 123,
     "metadata": {},
     "output_type": "execute_result"
    }
   ],
   "source": [
    "dp.train_label.shape"
   ]
  },
  {
   "cell_type": "code",
   "execution_count": 77,
   "metadata": {
    "scrolled": true
   },
   "outputs": [],
   "source": [
    "dp.get_input('cifar')"
   ]
  },
  {
   "cell_type": "code",
   "execution_count": 124,
   "metadata": {},
   "outputs": [
    {
     "name": "stdout",
     "output_type": "stream",
     "text": [
      "(60000, 784)\n",
      "(10000, 784)\n",
      "(60000,)\n",
      "(10000,)\n"
     ]
    }
   ],
   "source": [
    "print(dp.train_feature.shape)\n",
    "print(dp.test_feature.shape)\n",
    "print(dp.train_label.shape)\n",
    "print(dp.test_label.shape)"
   ]
  },
  {
   "cell_type": "code",
   "execution_count": 125,
   "metadata": {},
   "outputs": [
    {
     "data": {
      "text/plain": [
       "array([[0.        , 0.00050825, 0.0004306 , 0.0004014 , 0.00063494],\n",
       "       [0.00050649, 0.        , 0.00021708, 0.00037013, 0.00091191],\n",
       "       [0.00043047, 0.00021605, 0.        , 0.000169  , 0.0008503 ],\n",
       "       [0.00040381, 0.00036918, 0.00016936, 0.        , 0.00049898],\n",
       "       [0.00063467, 0.00090463, 0.00084091, 0.00049606, 0.        ]])"
      ]
     },
     "execution_count": 125,
     "metadata": {},
     "output_type": "execute_result"
    }
   ],
   "source": [
    "dp.get_local_difference(dp.train_label.reshape(5, -1))"
   ]
  },
  {
   "cell_type": "code",
   "execution_count": 105,
   "metadata": {},
   "outputs": [
    {
     "data": {
      "text/plain": [
       "0"
      ]
     },
     "execution_count": 105,
     "metadata": {},
     "output_type": "execute_result"
    }
   ],
   "source": [
    "len(np.where(dp.global_train_label == 0)[0])"
   ]
  },
  {
   "cell_type": "code",
   "execution_count": 126,
   "metadata": {},
   "outputs": [
    {
     "data": {
      "text/plain": [
       "[5421, 5842, 5851, 5918, 5923, 5949, 5958, 6131, 6265, 6742]"
      ]
     },
     "execution_count": 126,
     "metadata": {},
     "output_type": "execute_result"
    }
   ],
   "source": [
    "dp.get_global_difference(dp.train_label)"
   ]
  },
  {
   "cell_type": "code",
   "execution_count": 129,
   "metadata": {},
   "outputs": [
    {
     "data": {
      "text/plain": [
       "[4481, 4850, 4876, 4924, 4926, 4948, 4982, 5132, 5245, 5636]"
      ]
     },
     "execution_count": 129,
     "metadata": {},
     "output_type": "execute_result"
    }
   ],
   "source": [
    "dp.get_global_difference(dp.global_train_label)"
   ]
  },
  {
   "cell_type": "code",
   "execution_count": 128,
   "metadata": {},
   "outputs": [],
   "source": [
    "dp.gen_local_imbalance(10, 5000, 0)"
   ]
  },
  {
   "cell_type": "code",
   "execution_count": 130,
   "metadata": {},
   "outputs": [],
   "source": [
    "db = DataBalance.DataBalance(dp)"
   ]
  },
  {
   "cell_type": "code",
   "execution_count": 131,
   "metadata": {},
   "outputs": [],
   "source": [
    "r_ad = np.zeros(dp.size_class)\n",
    "\n",
    "# 3 : Calculate the data size of each class C\n",
    "num_each_class = np.zeros(dp.size_class)\n",
    "for i in dp.global_train_label:\n",
    "    num_each_class[i] = num_each_class[i] + 1\n",
    "\n",
    "# 4 : Calculate the mean m and the standard deviation s of C\n",
    "mean = np.mean(num_each_class)\n",
    "std = np.std(num_each_class, ddof=1)\n",
    "# 5 : Calculate the z-score\n",
    "z = (num_each_class- mean) / std"
   ]
  },
  {
   "cell_type": "code",
   "execution_count": 132,
   "metadata": {},
   "outputs": [
    {
     "data": {
      "text/plain": [
       "array([-0.24766823,  2.12860805, -0.06024362,  0.44178658, -0.41501163,\n",
       "       -1.73702449, -0.25436197,  0.81998266, -0.5020302 , -0.17403714])"
      ]
     },
     "execution_count": 132,
     "metadata": {},
     "output_type": "execute_result"
    }
   ],
   "source": [
    "z"
   ]
  },
  {
   "cell_type": "code",
   "execution_count": 133,
   "metadata": {},
   "outputs": [],
   "source": [
    "db.td = 0.1\n",
    "db.ta = - 0.1"
   ]
  },
  {
   "cell_type": "code",
   "execution_count": 134,
   "metadata": {
    "scrolled": false
   },
   "outputs": [
    {
     "name": "stdout",
     "output_type": "stream",
     "text": [
      "size: 0\n",
      "the 0th feature\n",
      "the 1000th feature\n",
      "the 2000th feature\n",
      "the 3000th feature\n",
      "the 4000th feature\n",
      "size: 1\n",
      "the 0th feature\n",
      "the 1000th feature\n",
      "the 2000th feature\n",
      "the 3000th feature\n",
      "the 4000th feature\n",
      "size: 2\n",
      "the 0th feature\n",
      "the 1000th feature\n",
      "the 2000th feature\n",
      "the 3000th feature\n",
      "the 4000th feature\n",
      "size: 3\n",
      "the 0th feature\n",
      "the 1000th feature\n",
      "the 2000th feature\n",
      "the 3000th feature\n",
      "the 4000th feature\n",
      "size: 4\n",
      "the 0th feature\n",
      "the 1000th feature\n",
      "the 2000th feature\n",
      "the 3000th feature\n",
      "the 4000th feature\n",
      "size: 5\n",
      "the 0th feature\n",
      "the 1000th feature\n",
      "the 2000th feature\n",
      "the 3000th feature\n",
      "the 4000th feature\n",
      "size: 6\n",
      "the 0th feature\n",
      "the 1000th feature\n",
      "the 2000th feature\n",
      "the 3000th feature\n",
      "the 4000th feature\n",
      "size: 7\n",
      "the 0th feature\n",
      "the 1000th feature\n",
      "the 2000th feature\n",
      "the 3000th feature\n",
      "the 4000th feature\n",
      "size: 8\n",
      "the 0th feature\n",
      "the 1000th feature\n",
      "the 2000th feature\n",
      "the 3000th feature\n",
      "the 4000th feature\n",
      "size: 9\n",
      "the 0th feature\n",
      "the 1000th feature\n",
      "the 2000th feature\n",
      "the 3000th feature\n",
      "the 4000th feature\n"
     ]
    }
   ],
   "source": [
    "db.z_score()"
   ]
  },
  {
   "cell_type": "code",
   "execution_count": 135,
   "metadata": {},
   "outputs": [
    {
     "data": {
      "text/plain": [
       "[4897, 4933, 4944, 4954, 4956, 4956, 4982, 5054, 5062, 5141]"
      ]
     },
     "execution_count": 135,
     "metadata": {},
     "output_type": "execute_result"
    }
   ],
   "source": [
    "dp.get_global_difference(dp.global_train_label)"
   ]
  },
  {
   "cell_type": "code",
   "execution_count": 136,
   "metadata": {},
   "outputs": [],
   "source": [
    "db.assign_clients()"
   ]
  },
  {
   "cell_type": "code",
   "execution_count": 137,
   "metadata": {},
   "outputs": [
    {
     "data": {
      "text/plain": [
       "[{7, 8, 9}, {4, 5, 6}, {1, 2, 3}, {0}]"
      ]
     },
     "execution_count": 137,
     "metadata": {},
     "output_type": "execute_result"
    }
   ],
   "source": [
    "db.mediator"
   ]
  }
 ],
 "metadata": {
  "kernelspec": {
   "display_name": "Python 3",
   "language": "python",
   "name": "python3"
  },
  "language_info": {
   "codemirror_mode": {
    "name": "ipython",
    "version": 3
   },
   "file_extension": ".py",
   "mimetype": "text/x-python",
   "name": "python",
   "nbconvert_exporter": "python",
   "pygments_lexer": "ipython3",
   "version": "3.6.1"
  }
 },
 "nbformat": 4,
 "nbformat_minor": 2
}
