{
 "cells": [
  {
   "cell_type": "markdown",
   "metadata": {},
   "source": [
    "## Difference\n",
    "+ Size Imbalance, where the data size on each device (or client) is uneven; \n",
    "+ LocalImbalance, i.e.,independentandnon-identicallydistribution (non-IID), where each device does not follow a common data distribution;\n",
    "+ Global Imbalance, means that the collection of data in all devices is class imbalanced."
   ]
  },
  {
   "cell_type": "code",
   "execution_count": 97,
   "metadata": {},
   "outputs": [],
   "source": [
    "import DataProcessor\n",
    "import DataBalance\n",
    "import numpy as np \n",
    "from importlib import reload"
   ]
  },
  {
   "cell_type": "code",
   "execution_count": 145,
   "metadata": {},
   "outputs": [
    {
     "data": {
      "text/plain": [
       "<module 'DataBalance' from 'C:\\\\Personal\\\\USC\\\\HW\\\\CSCI596-FedLearningProject\\\\DataBalance.py'>"
      ]
     },
     "execution_count": 145,
     "metadata": {},
     "output_type": "execute_result"
    }
   ],
   "source": [
    "reload(DataProcessor)\n",
    "reload(DataBalance)"
   ]
  },
  {
   "cell_type": "code",
   "execution_count": 146,
   "metadata": {},
   "outputs": [],
   "source": [
    "dp = DataProcessor.DataProcessor()"
   ]
  },
  {
   "cell_type": "code",
   "execution_count": 153,
   "metadata": {},
   "outputs": [],
   "source": [
    "# ds.get_input('cifar')\n",
    "dp.get_input('mnist')"
   ]
  },
  {
   "cell_type": "code",
   "execution_count": 148,
   "metadata": {},
   "outputs": [
    {
     "data": {
      "text/plain": [
       "(60000,)"
      ]
     },
     "execution_count": 148,
     "metadata": {},
     "output_type": "execute_result"
    }
   ],
   "source": [
    "dp.train_label.shape"
   ]
  },
  {
   "cell_type": "code",
   "execution_count": 154,
   "metadata": {},
   "outputs": [
    {
     "name": "stdout",
     "output_type": "stream",
     "text": [
      "(60000, 784)\n",
      "(10000, 784)\n",
      "(60000,)\n",
      "(10000,)\n"
     ]
    }
   ],
   "source": [
    "print(dp.train_feature.shape)\n",
    "print(dp.test_feature.shape)\n",
    "print(dp.train_label.shape)\n",
    "print(dp.test_label.shape)"
   ]
  },
  {
   "cell_type": "code",
   "execution_count": 155,
   "metadata": {},
   "outputs": [
    {
     "data": {
      "text/plain": [
       "array([[0.        , 0.00050825, 0.0004306 , 0.0004014 , 0.00063494],\n",
       "       [0.00050649, 0.        , 0.00021708, 0.00037013, 0.00091191],\n",
       "       [0.00043047, 0.00021605, 0.        , 0.000169  , 0.0008503 ],\n",
       "       [0.00040381, 0.00036918, 0.00016936, 0.        , 0.00049898],\n",
       "       [0.00063467, 0.00090463, 0.00084091, 0.00049606, 0.        ]])"
      ]
     },
     "execution_count": 155,
     "metadata": {},
     "output_type": "execute_result"
    }
   ],
   "source": [
    "dp.get_local_difference(dp.train_label.reshape(5, -1))"
   ]
  },
  {
   "cell_type": "code",
   "execution_count": 156,
   "metadata": {},
   "outputs": [
    {
     "data": {
      "text/plain": [
       "[5421, 5842, 5851, 5918, 5923, 5949, 5958, 6131, 6265, 6742]"
      ]
     },
     "execution_count": 156,
     "metadata": {},
     "output_type": "execute_result"
    }
   ],
   "source": [
    "dp.get_global_difference(dp.train_label)"
   ]
  },
  {
   "cell_type": "code",
   "execution_count": 157,
   "metadata": {},
   "outputs": [],
   "source": [
    "dp.gen_local_imbalance(10, 5000, 0)"
   ]
  },
  {
   "cell_type": "code",
   "execution_count": 158,
   "metadata": {},
   "outputs": [
    {
     "data": {
      "text/plain": [
       "[4481, 4853, 4858, 4925, 4939, 4941, 5052, 5091, 5244, 5616]"
      ]
     },
     "execution_count": 158,
     "metadata": {},
     "output_type": "execute_result"
    }
   ],
   "source": [
    "dp.get_global_difference(dp.global_train_label)"
   ]
  },
  {
   "cell_type": "code",
   "execution_count": 107,
   "metadata": {},
   "outputs": [],
   "source": [
    "db = DataBalance.DataBalance(dp)"
   ]
  },
  {
   "cell_type": "code",
   "execution_count": 108,
   "metadata": {},
   "outputs": [
    {
     "data": {
      "text/plain": [
       "[array([9, 9, 7, ..., 3, 9, 9]),\n",
       " array([4, 4, 8, ..., 6, 3, 7]),\n",
       " array([3, 8, 9, ..., 3, 4, 0]),\n",
       " array([9, 7, 5, ..., 1, 6, 9]),\n",
       " array([6, 5, 4, ..., 3, 5, 1]),\n",
       " array([6, 6, 0, ..., 7, 7, 6]),\n",
       " array([3, 8, 7, ..., 0, 7, 2]),\n",
       " array([3, 6, 0, ..., 6, 8, 4]),\n",
       " array([4, 3, 3, ..., 5, 1, 0]),\n",
       " array([1, 1, 1, ..., 1, 6, 8])]"
      ]
     },
     "execution_count": 108,
     "metadata": {},
     "output_type": "execute_result"
    }
   ],
   "source": [
    "dp.local_train_label"
   ]
  },
  {
   "cell_type": "code",
   "execution_count": 109,
   "metadata": {},
   "outputs": [],
   "source": [
    "r_ad = np.zeros(dp.size_class)\n",
    "\n",
    "# 3 : Calculate the data size of each class C\n",
    "num_each_class = np.zeros(dp.size_class)\n",
    "for i in dp.global_train_label:\n",
    "    num_each_class[i] = num_each_class[i] + 1\n",
    "\n",
    "# 4 : Calculate the mean m and the standard deviation s of C\n",
    "mean = np.mean(num_each_class)\n",
    "std = np.std(num_each_class, ddof=1)\n",
    "# 5 : Calculate the z-score\n",
    "z = (num_each_class- mean) / std"
   ]
  },
  {
   "cell_type": "code",
   "execution_count": 110,
   "metadata": {},
   "outputs": [
    {
     "data": {
      "text/plain": [
       "array([-0.27986367,  2.21472359, -0.07601235,  0.48025987, -0.5424518 ,\n",
       "       -1.62390029, -0.2936841 ,  0.68411119, -0.5424518 , -0.02073064])"
      ]
     },
     "execution_count": 110,
     "metadata": {},
     "output_type": "execute_result"
    }
   ],
   "source": [
    "z"
   ]
  },
  {
   "cell_type": "code",
   "execution_count": 111,
   "metadata": {},
   "outputs": [],
   "source": [
    "db.td = 0.1\n",
    "db.ta = - 0.1"
   ]
  },
  {
   "cell_type": "code",
   "execution_count": 112,
   "metadata": {
    "scrolled": false
   },
   "outputs": [
    {
     "name": "stdout",
     "output_type": "stream",
     "text": [
      "size: 0\n",
      "the 0th feature\n",
      "the 1000th feature\n",
      "the 2000th feature\n",
      "the 3000th feature\n",
      "the 4000th feature\n",
      "size: 1\n",
      "the 0th feature\n",
      "the 1000th feature\n",
      "the 2000th feature\n",
      "the 3000th feature\n",
      "the 4000th feature\n",
      "size: 2\n",
      "the 0th feature\n",
      "the 1000th feature\n",
      "the 2000th feature\n",
      "the 3000th feature\n",
      "the 4000th feature\n",
      "size: 3\n",
      "the 0th feature\n",
      "the 1000th feature\n",
      "the 2000th feature\n",
      "the 3000th feature\n",
      "the 4000th feature\n",
      "size: 4\n",
      "the 0th feature\n",
      "the 1000th feature\n",
      "the 2000th feature\n",
      "the 3000th feature\n",
      "the 4000th feature\n",
      "size: 5\n",
      "the 0th feature\n",
      "the 1000th feature\n",
      "the 2000th feature\n",
      "the 3000th feature\n",
      "the 4000th feature\n",
      "size: 6\n",
      "the 0th feature\n",
      "the 1000th feature\n",
      "the 2000th feature\n",
      "the 3000th feature\n",
      "the 4000th feature\n",
      "size: 7\n",
      "the 0th feature\n",
      "the 1000th feature\n",
      "the 2000th feature\n",
      "the 3000th feature\n",
      "the 4000th feature\n",
      "size: 8\n",
      "the 0th feature\n",
      "the 1000th feature\n",
      "the 2000th feature\n",
      "the 3000th feature\n",
      "the 4000th feature\n",
      "size: 9\n",
      "the 0th feature\n",
      "the 1000th feature\n",
      "the 2000th feature\n",
      "the 3000th feature\n",
      "the 4000th feature\n"
     ]
    }
   ],
   "source": [
    "db.z_score()"
   ]
  },
  {
   "cell_type": "code",
   "execution_count": 113,
   "metadata": {},
   "outputs": [
    {
     "data": {
      "text/plain": [
       "[4919, 4931, 4933, 4951, 4953, 4978, 4994, 5048, 5070, 5140]"
      ]
     },
     "execution_count": 113,
     "metadata": {},
     "output_type": "execute_result"
    }
   ],
   "source": [
    "dp.get_global_difference(dp.global_train_label)"
   ]
  },
  {
   "cell_type": "code",
   "execution_count": 114,
   "metadata": {},
   "outputs": [],
   "source": [
    "db.assign_clients()"
   ]
  },
  {
   "cell_type": "code",
   "execution_count": 115,
   "metadata": {},
   "outputs": [
    {
     "data": {
      "text/plain": [
       "[{7, 8, 9}, {4, 5, 6}, {1, 2, 3}, {0}]"
      ]
     },
     "execution_count": 115,
     "metadata": {},
     "output_type": "execute_result"
    }
   ],
   "source": [
    "db.mediator"
   ]
  },
  {
   "cell_type": "code",
   "execution_count": null,
   "metadata": {},
   "outputs": [],
   "source": []
  },
  {
   "cell_type": "code",
   "execution_count": 73,
   "metadata": {},
   "outputs": [],
   "source": [
    "dp.gen_size_imbalance([5000, 2000, 1000])"
   ]
  },
  {
   "cell_type": "code",
   "execution_count": 74,
   "metadata": {},
   "outputs": [
    {
     "data": {
      "text/plain": [
       "[765, 765, 792, 796, 806, 809, 809, 809, 817, 832]"
      ]
     },
     "execution_count": 74,
     "metadata": {},
     "output_type": "execute_result"
    }
   ],
   "source": [
    "dp.get_global_difference(dp.global_train_label)"
   ]
  },
  {
   "cell_type": "code",
   "execution_count": 75,
   "metadata": {},
   "outputs": [
    {
     "data": {
      "text/plain": [
       "array([[0.        , 0.00223889, 0.00587034],\n",
       "       [0.00225046, 0.        , 0.00422742],\n",
       "       [0.00584834, 0.00407691, 0.        ]])"
      ]
     },
     "execution_count": 75,
     "metadata": {},
     "output_type": "execute_result"
    }
   ],
   "source": [
    "dp.get_local_difference(dp.local_train_label)"
   ]
  },
  {
   "cell_type": "code",
   "execution_count": 76,
   "metadata": {},
   "outputs": [
    {
     "name": "stdout",
     "output_type": "stream",
     "text": [
      "the 0th device size: 5000\n",
      "the 1th device size: 2000\n",
      "the 2th device size: 1000\n"
     ]
    }
   ],
   "source": [
    "dp.get_size_difference(dp.local_train_label)"
   ]
  },
  {
   "cell_type": "code",
   "execution_count": 159,
   "metadata": {},
   "outputs": [],
   "source": [
    "dp.gen_global_imbalance(5, 2000, [500, 500, 1000, 1000, 1500, 1500, 3000, 1000, 0, 0])"
   ]
  },
  {
   "cell_type": "code",
   "execution_count": 160,
   "metadata": {},
   "outputs": [
    {
     "data": {
      "text/plain": [
       "[0, 0, 500, 500, 1000, 1000, 1000, 1500, 1500, 3000]"
      ]
     },
     "execution_count": 160,
     "metadata": {},
     "output_type": "execute_result"
    }
   ],
   "source": [
    "dp.get_global_difference(dp.global_train_label)"
   ]
  },
  {
   "cell_type": "code",
   "execution_count": 161,
   "metadata": {},
   "outputs": [
    {
     "data": {
      "text/plain": [
       "array([[0.        , 0.0031424 , 0.0042759 , 0.00159083, 0.00345882],\n",
       "       [0.00309214, 0.        , 0.00155139, 0.00162139, 0.0021397 ],\n",
       "       [0.00429454, 0.00153019, 0.        , 0.00215769, 0.00215751],\n",
       "       [0.00168137, 0.00165244, 0.00215916, 0.        , 0.00308114],\n",
       "       [0.00346902, 0.00210147, 0.00219588, 0.0030836 , 0.        ]])"
      ]
     },
     "execution_count": 161,
     "metadata": {},
     "output_type": "execute_result"
    }
   ],
   "source": [
    "dp.get_local_difference(dp.local_train_label)"
   ]
  }
 ],
 "metadata": {
  "kernelspec": {
   "display_name": "Python 3",
   "language": "python",
   "name": "python3"
  },
  "language_info": {
   "codemirror_mode": {
    "name": "ipython",
    "version": 3
   },
   "file_extension": ".py",
   "mimetype": "text/x-python",
   "name": "python",
   "nbconvert_exporter": "python",
   "pygments_lexer": "ipython3",
   "version": "3.6.1"
  }
 },
 "nbformat": 4,
 "nbformat_minor": 2
}
