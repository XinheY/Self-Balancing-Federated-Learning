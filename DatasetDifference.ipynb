{
 "cells": [
  {
   "cell_type": "markdown",
   "metadata": {},
   "source": [
    "## Difference\n",
    "+ Size Imbalance, where the data size on each device (or client) is uneven; \n",
    "+ LocalImbalance, i.e.,independentandnon-identicallydistribution (non-IID), where each device does not follow a common data distribution;\n",
    "+ Global Imbalance, means that the collection of data in all devices is class imbalanced."
   ]
  },
  {
   "cell_type": "code",
   "execution_count": 77,
   "metadata": {},
   "outputs": [],
   "source": [
    "import DataProcessor\n",
    "from importlib import reload"
   ]
  },
  {
   "cell_type": "code",
   "execution_count": 78,
   "metadata": {},
   "outputs": [
    {
     "data": {
      "text/plain": [
       "<module 'DataProcessor' from 'C:\\\\Personal\\\\USC\\\\HW\\\\CSCI596-FedLearningProject\\\\DataProcessor.py'>"
      ]
     },
     "execution_count": 78,
     "metadata": {},
     "output_type": "execute_result"
    }
   ],
   "source": [
    "reload(DataProcessor)"
   ]
  },
  {
   "cell_type": "code",
   "execution_count": 79,
   "metadata": {},
   "outputs": [],
   "source": [
    "dp = DataProcessor.DataProcessor()"
   ]
  },
  {
   "cell_type": "code",
   "execution_count": 80,
   "metadata": {},
   "outputs": [],
   "source": [
    "# ds.get_input('cifar')\n",
    "dp.get_input('mnist')"
   ]
  },
  {
   "cell_type": "code",
   "execution_count": 81,
   "metadata": {},
   "outputs": [
    {
     "data": {
      "text/plain": [
       "(60000, 784)"
      ]
     },
     "execution_count": 81,
     "metadata": {},
     "output_type": "execute_result"
    }
   ],
   "source": [
    "dp.train_feature.shape"
   ]
  },
  {
   "cell_type": "code",
   "execution_count": 82,
   "metadata": {},
   "outputs": [
    {
     "data": {
      "text/plain": [
       "(60000,)"
      ]
     },
     "execution_count": 82,
     "metadata": {},
     "output_type": "execute_result"
    }
   ],
   "source": [
    "dp.train_label.shape"
   ]
  },
  {
   "cell_type": "code",
   "execution_count": 83,
   "metadata": {},
   "outputs": [
    {
     "data": {
      "text/plain": [
       "(10000, 784)"
      ]
     },
     "execution_count": 83,
     "metadata": {},
     "output_type": "execute_result"
    }
   ],
   "source": [
    "dp.test_feature.shape"
   ]
  },
  {
   "cell_type": "code",
   "execution_count": 84,
   "metadata": {},
   "outputs": [
    {
     "data": {
      "text/plain": [
       "(10000,)"
      ]
     },
     "execution_count": 84,
     "metadata": {},
     "output_type": "execute_result"
    }
   ],
   "source": [
    "dp.test_label.shape"
   ]
  },
  {
   "cell_type": "code",
   "execution_count": 85,
   "metadata": {},
   "outputs": [
    {
     "data": {
      "text/plain": [
       "array([[0.        , 0.00050825, 0.0004306 , 0.0004014 , 0.00063494],\n",
       "       [0.00050649, 0.        , 0.00021708, 0.00037013, 0.00091191],\n",
       "       [0.00043047, 0.00021605, 0.        , 0.000169  , 0.0008503 ],\n",
       "       [0.00040381, 0.00036918, 0.00016936, 0.        , 0.00049898],\n",
       "       [0.00063467, 0.00090463, 0.00084091, 0.00049606, 0.        ]])"
      ]
     },
     "execution_count": 85,
     "metadata": {},
     "output_type": "execute_result"
    }
   ],
   "source": [
    "dp.get_local_difference(dp.train_label.reshape(5, -1))"
   ]
  },
  {
   "cell_type": "code",
   "execution_count": 86,
   "metadata": {},
   "outputs": [
    {
     "data": {
      "text/plain": [
       "[5421, 5842, 5851, 5918, 5923, 5949, 5958, 6131, 6265, 6742]"
      ]
     },
     "execution_count": 86,
     "metadata": {},
     "output_type": "execute_result"
    }
   ],
   "source": [
    "dp.get_global_difference(dp.train_label)"
   ]
  },
  {
   "cell_type": "code",
   "execution_count": 87,
   "metadata": {},
   "outputs": [
    {
     "ename": "MemoryError",
     "evalue": "",
     "output_type": "error",
     "traceback": [
      "\u001b[1;31m---------------------------------------------------------------------------\u001b[0m",
      "\u001b[1;31mMemoryError\u001b[0m                               Traceback (most recent call last)",
      "\u001b[1;32m<ipython-input-87-8410e86c75c0>\u001b[0m in \u001b[0;36m<module>\u001b[1;34m()\u001b[0m\n\u001b[1;32m----> 1\u001b[1;33m \u001b[0mdp\u001b[0m\u001b[1;33m.\u001b[0m\u001b[0mgen_local_imbalance\u001b[0m\u001b[1;33m(\u001b[0m\u001b[1;36m10\u001b[0m\u001b[1;33m,\u001b[0m \u001b[1;36m5000\u001b[0m\u001b[1;33m,\u001b[0m \u001b[1;36m0.5\u001b[0m\u001b[1;33m)\u001b[0m\u001b[1;33m\u001b[0m\u001b[0m\n\u001b[0m",
      "\u001b[1;32mC:\\Personal\\USC\\HW\\CSCI596-FedLearningProject\\DataProcessor.py\u001b[0m in \u001b[0;36mgen_local_imbalance\u001b[1;34m(self, num_device, device_size, alpha)\u001b[0m\n\u001b[0;32m    147\u001b[0m             \u001b[0mself\u001b[0m\u001b[1;33m.\u001b[0m\u001b[0mglobal_train_label\u001b[0m \u001b[1;33m+=\u001b[0m \u001b[0mself\u001b[0m\u001b[1;33m.\u001b[0m\u001b[0mlocal_train_label\u001b[0m\u001b[1;33m[\u001b[0m\u001b[0mi\u001b[0m\u001b[1;33m]\u001b[0m\u001b[1;33m\u001b[0m\u001b[0m\n\u001b[0;32m    148\u001b[0m \u001b[1;33m\u001b[0m\u001b[0m\n\u001b[1;32m--> 149\u001b[1;33m         \u001b[0mself\u001b[0m\u001b[1;33m.\u001b[0m\u001b[0mglobal_train_feature\u001b[0m \u001b[1;33m=\u001b[0m \u001b[0mnp\u001b[0m\u001b[1;33m.\u001b[0m\u001b[0marray\u001b[0m\u001b[1;33m(\u001b[0m\u001b[0mself\u001b[0m\u001b[1;33m.\u001b[0m\u001b[0mglobal_train_feature\u001b[0m\u001b[1;33m)\u001b[0m\u001b[1;33m[\u001b[0m\u001b[0mneed_idx\u001b[0m\u001b[1;33m]\u001b[0m\u001b[1;33m\u001b[0m\u001b[0m\n\u001b[0m\u001b[0;32m    150\u001b[0m         \u001b[0mself\u001b[0m\u001b[1;33m.\u001b[0m\u001b[0mglobal_train_label\u001b[0m \u001b[1;33m=\u001b[0m \u001b[0mnp\u001b[0m\u001b[1;33m.\u001b[0m\u001b[0marray\u001b[0m\u001b[1;33m(\u001b[0m\u001b[0mself\u001b[0m\u001b[1;33m.\u001b[0m\u001b[0mglobal_train_label\u001b[0m\u001b[1;33m)\u001b[0m\u001b[1;33m[\u001b[0m\u001b[0mneed_idx\u001b[0m\u001b[1;33m]\u001b[0m\u001b[1;33m\u001b[0m\u001b[0m\n\u001b[0;32m    151\u001b[0m     \u001b[1;31m#  endregion\u001b[0m\u001b[1;33m\u001b[0m\u001b[1;33m\u001b[0m\u001b[0m\n",
      "\u001b[1;31mMemoryError\u001b[0m: "
     ]
    }
   ],
   "source": [
    "dp.gen_local_imbalance(10, 5000, 0.5)"
   ]
  },
  {
   "cell_type": "code",
   "execution_count": 88,
   "metadata": {},
   "outputs": [
    {
     "data": {
      "text/plain": [
       "array([[0.        , 1.20334775, 1.25976135, 1.20799786, 1.20391846,\n",
       "        1.25701652, 1.17876187, 1.20588099, 1.17261225, 1.25515273],\n",
       "       [1.16088485, 0.        , 1.14909303, 1.15299031, 1.14154283,\n",
       "        1.14212105, 1.16102998, 1.12990104, 1.12858817, 1.12681406],\n",
       "       [1.19062649, 1.19557937, 0.        , 1.16166203, 1.25501591,\n",
       "        1.22270254, 1.1645618 , 1.22329328, 1.215355  , 1.2351976 ],\n",
       "       [1.21506999, 1.16968049, 1.17013131, 0.        , 1.17551998,\n",
       "        1.19616585, 1.24818175, 1.17715048, 1.26358992, 1.17024854],\n",
       "       [1.25233722, 1.20094905, 1.21297083, 1.18748872, 0.        ,\n",
       "        1.18949751, 1.22179384, 1.16100623, 1.21074143, 1.24854866],\n",
       "       [1.3181575 , 1.28994944, 1.28511716, 1.25625897, 1.26439749,\n",
       "        0.        , 1.28851027, 1.3172534 , 1.26095464, 1.27707881],\n",
       "       [1.17701224, 1.18567381, 1.20765457, 1.24550085, 1.24292845,\n",
       "        1.27923833, 0.        , 1.20114168, 1.15516226, 1.21855307],\n",
       "       [1.17851217, 1.1763438 , 1.20721466, 1.15607419, 1.14174038,\n",
       "        1.17974011, 1.17134691, 0.        , 1.17650859, 1.19673341],\n",
       "       [1.16446535, 1.19605002, 1.1555845 , 1.23381077, 1.21192913,\n",
       "        1.21248841, 1.18494813, 1.22408561, 0.        , 1.2386443 ],\n",
       "       [1.24187802, 1.22684989, 1.21519956, 1.25868712, 1.20385859,\n",
       "        1.25943742, 1.24118297, 1.21141149, 1.20876992, 0.        ]])"
      ]
     },
     "execution_count": 88,
     "metadata": {},
     "output_type": "execute_result"
    }
   ],
   "source": [
    "dp.get_local_difference(dp.local_train_label)"
   ]
  },
  {
   "cell_type": "code",
   "execution_count": 50,
   "metadata": {},
   "outputs": [
    {
     "data": {
      "text/plain": [
       "(10,)"
      ]
     },
     "execution_count": 50,
     "metadata": {},
     "output_type": "execute_result"
    }
   ],
   "source": [
    "dp.global_train_label.shape"
   ]
  },
  {
   "cell_type": "code",
   "execution_count": 95,
   "metadata": {},
   "outputs": [
    {
     "data": {
      "text/plain": [
       "[0.0,\n",
       " 3.0,\n",
       " 6.0,\n",
       " 5.0,\n",
       " 2.0,\n",
       " 7.0,\n",
       " 7.0,\n",
       " 1.0,\n",
       " 3.0,\n",
       " 7.0,\n",
       " 2.0,\n",
       " 7.0,\n",
       " 9.0,\n",
       " 1.0,\n",
       " 9.0,\n",
       " 3.0,\n",
       " 1.0,\n",
       " 7.0,\n",
       " 0.0,\n",
       " 3.0,\n",
       " 0.0,\n",
       " 8.0,\n",
       " 0.0,\n",
       " 0.0,\n",
       " 6.0,\n",
       " 3.0,\n",
       " 9.0,\n",
       " 4.0,\n",
       " 1.0,\n",
       " 4.0,\n",
       " 0.0,\n",
       " 9.0,\n",
       " 9.0,\n",
       " 3.0,\n",
       " 1.0,\n",
       " 7.0,\n",
       " 3.0,\n",
       " 1.0,\n",
       " 6.0,\n",
       " 4.0,\n",
       " 3.0,\n",
       " 6.0,\n",
       " 3.0,\n",
       " 3.0,\n",
       " 2.0,\n",
       " 7.0,\n",
       " 9.0,\n",
       " 8.0,\n",
       " 5.0,\n",
       " 8.0,\n",
       " 6.0,\n",
       " 9.0,\n",
       " 1.0,\n",
       " 7.0,\n",
       " 3.0,\n",
       " 0.0,\n",
       " 6.0,\n",
       " 8.0,\n",
       " 8.0,\n",
       " 0.0,\n",
       " 1.0,\n",
       " 6.0,\n",
       " 8.0,\n",
       " 8.0,\n",
       " 2.0,\n",
       " 1.0,\n",
       " 0.0,\n",
       " 7.0,\n",
       " 4.0,\n",
       " 6.0,\n",
       " 6.0,\n",
       " 2.0,\n",
       " 4.0,\n",
       " 1.0,\n",
       " 4.0,\n",
       " 6.0,\n",
       " 9.0,\n",
       " 1.0,\n",
       " 9.0,\n",
       " 8.0,\n",
       " 5.0,\n",
       " 5.0,\n",
       " 0.0,\n",
       " 9.0,\n",
       " 6.0,\n",
       " 0.0,\n",
       " 9.0,\n",
       " 7.0,\n",
       " 5.0,\n",
       " 0.0,\n",
       " 0.0,\n",
       " 8.0,\n",
       " 7.0,\n",
       " 8.0,\n",
       " 1.0,\n",
       " 1.0,\n",
       " 5.0,\n",
       " 6.0,\n",
       " 4.0,\n",
       " 6.0]"
      ]
     },
     "execution_count": 95,
     "metadata": {},
     "output_type": "execute_result"
    }
   ],
   "source": [
    "dp.local_train_label[-1][-100:]"
   ]
  },
  {
   "cell_type": "code",
   "execution_count": null,
   "metadata": {},
   "outputs": [],
   "source": []
  }
 ],
 "metadata": {
  "kernelspec": {
   "display_name": "Python 3",
   "language": "python",
   "name": "python3"
  },
  "language_info": {
   "codemirror_mode": {
    "name": "ipython",
    "version": 3
   },
   "file_extension": ".py",
   "mimetype": "text/x-python",
   "name": "python",
   "nbconvert_exporter": "python",
   "pygments_lexer": "ipython3",
   "version": "3.6.1"
  }
 },
 "nbformat": 4,
 "nbformat_minor": 2
}
