{
 "cells": [
  {
   "cell_type": "code",
   "execution_count": 5,
   "metadata": {},
   "outputs": [],
   "source": [
    "import numpy as np"
   ]
  },
  {
   "cell_type": "code",
   "execution_count": 6,
   "metadata": {},
   "outputs": [],
   "source": [
    "all = [i for i in range(100)]"
   ]
  },
  {
   "cell_type": "code",
   "execution_count": 8,
   "metadata": {},
   "outputs": [],
   "source": [
    "dict_users = {}\n",
    "for i in range(10):\n",
    "    dict_users[i] = set(np.random.choice(all, 10, replace=False))\n",
    "    all = list(set(all) - dict_users[i])"
   ]
  },
  {
   "cell_type": "code",
   "execution_count": 9,
   "metadata": {},
   "outputs": [
    {
     "data": {
      "text/plain": [
       "{0: {6, 24, 29, 32, 44, 51, 62, 66, 70, 82},\n",
       " 1: {1, 7, 33, 34, 60, 61, 65, 83, 84, 96},\n",
       " 2: {5, 17, 18, 23, 26, 45, 55, 59, 74, 90},\n",
       " 3: {10, 16, 39, 41, 50, 81, 86, 94, 95, 99},\n",
       " 4: {8, 12, 13, 15, 35, 42, 58, 75, 80, 88},\n",
       " 5: {11, 14, 20, 22, 30, 48, 63, 87, 91, 98},\n",
       " 6: {0, 27, 37, 43, 53, 56, 71, 78, 79, 85},\n",
       " 7: {2, 3, 9, 36, 40, 52, 54, 77, 89, 92},\n",
       " 8: {4, 19, 28, 38, 47, 57, 64, 67, 72, 97},\n",
       " 9: {21, 25, 31, 46, 49, 68, 69, 73, 76, 93}}"
      ]
     },
     "execution_count": 9,
     "metadata": {},
     "output_type": "execute_result"
    }
   ],
   "source": [
    "dict_users"
   ]
  },
  {
   "cell_type": "code",
   "execution_count": null,
   "metadata": {},
   "outputs": [],
   "source": []
  }
 ],
 "metadata": {
  "kernelspec": {
   "display_name": "Python 3",
   "language": "python",
   "name": "python3"
  },
  "language_info": {
   "codemirror_mode": {
    "name": "ipython",
    "version": 3
   },
   "file_extension": ".py",
   "mimetype": "text/x-python",
   "name": "python",
   "nbconvert_exporter": "python",
   "pygments_lexer": "ipython3",
   "version": "3.8.3"
  }
 },
 "nbformat": 4,
 "nbformat_minor": 4
}
